{
 "cells": [
  {
   "cell_type": "code",
   "execution_count": null,
   "id": "7d85253e-7d73-4a17-b138-ad9daa26187d",
   "metadata": {},
   "outputs": [],
   "source": [
    "import smtplib"
   ]
  },
  {
   "cell_type": "code",
   "execution_count": null,
   "id": "1d8a80d9-fb49-45c3-9736-1da6890b3ce7",
   "metadata": {},
   "outputs": [],
   "source": [
    "import getpass"
   ]
  },
  {
   "cell_type": "code",
   "execution_count": null,
   "id": "61c3d4e1-0a48-4498-b837-f74b58d32631",
   "metadata": {},
   "outputs": [],
   "source": [
    "from email.mime.text import MIMEText"
   ]
  },
  {
   "cell_type": "code",
   "execution_count": null,
   "id": "5a4e45e4-d9b2-4b09-9114-c6002475f537",
   "metadata": {},
   "outputs": [],
   "source": [
    "def send_email():\n",
    "    sender_address='akshatbhatnagar908@gmail.com'\n",
    "    password=getpass.getpass()\n",
    "    subject='testing'\n",
    "    msg='''\n",
    "        akshat bhatnagar is best in business\n",
    "        '''\n",
    "    #server intialzation\n",
    "    server=smtplib.SMTP('smtp.gmail.com',587)\n",
    "    server.starttls() \n",
    "    server.login(sender_address,password)\n",
    "\n",
    "    #draft my message body\n",
    "    msg=MIMEText(msg)\n",
    "    msg['Subject']=subject\n",
    "    msg['From']=sender_address\n",
    "    msg['To']='akshatbhatnagar908@gmail.com'\n",
    "    msg.set_param('importance','high value')\n",
    "    recipient='akshatbhatnagar908@gmail.com'\n",
    "\n",
    "    server.sendmail(sender_address,recipient,msg.as_string())\n",
    "\n",
    "send_email()\n",
    "\n",
    "    \n",
    "    "
   ]
  },
  {
   "cell_type": "markdown",
   "id": "3eba7217-8784-4041-ae76-4c9462e43035",
   "metadata": {},
   "source": []
  },
  {
   "cell_type": "code",
   "execution_count": null,
   "id": "0cad03bb-7ea2-4039-a5c0-9f1732361d72",
   "metadata": {},
   "outputs": [],
   "source": []
  },
  {
   "cell_type": "code",
   "execution_count": null,
   "id": "f99af326-eda0-45bf-a045-23c8d9ade0bb",
   "metadata": {},
   "outputs": [],
   "source": []
  }
 ],
 "metadata": {
  "kernelspec": {
   "display_name": "Python 3 (ipykernel)",
   "language": "python",
   "name": "python3"
  },
  "language_info": {
   "codemirror_mode": {
    "name": "ipython",
    "version": 3
   },
   "file_extension": ".py",
   "mimetype": "text/x-python",
   "name": "python",
   "nbconvert_exporter": "python",
   "pygments_lexer": "ipython3",
   "version": "3.12.6"
  }
 },
 "nbformat": 4,
 "nbformat_minor": 5
}
